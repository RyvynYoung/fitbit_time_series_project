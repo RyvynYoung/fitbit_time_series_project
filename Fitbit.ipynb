{
 "cells": [
  {
   "cell_type": "markdown",
   "metadata": {},
   "source": [
    "# Fibit Time Series independent project"
   ]
  },
  {
   "cell_type": "markdown",
   "metadata": {},
   "source": [
    "## Environment Setup"
   ]
  },
  {
   "cell_type": "code",
   "execution_count": 1,
   "metadata": {},
   "outputs": [],
   "source": [
    "import numpy as np\n",
    "import pandas as pd\n",
    "\n",
    "from datetime import datetime\n",
    "from sklearn.metrics import mean_squared_error\n",
    "from math import sqrt\n",
    "\n",
    "import matplotlib.pyplot as plt\n",
    "import seaborn as sns\n",
    "from pandas.plotting import register_matplotlib_converters\n",
    "\n",
    "import statsmodels.api as sm\n",
    "from statsmodels.tsa.api import Holt\n",
    "\n",
    "import warnings\n",
    "warnings.filterwarnings(\"ignore\")"
   ]
  },
  {
   "cell_type": "code",
   "execution_count": 7,
   "metadata": {},
   "outputs": [
    {
     "name": "stdout",
     "output_type": "stream",
     "text": [
      "Date Range: 2018-04-26 00:00:00 to 2018-12-06 00:00:00\n",
      "Shape: (225, 9)\n"
     ]
    }
   ],
   "source": [
    "# plotting defaults\n",
    "plt.rc('figure', figsize=(13, 7))\n",
    "plt.style.use('seaborn-whitegrid')\n",
    "plt.rc('font', size=16)\n",
    "print('Date Range:', df1.index.min(), 'to', df1.index.max())\n",
    "print('Shape:', df1.shape)"
   ]
  },
  {
   "cell_type": "markdown",
   "metadata": {},
   "source": [
    "# Acquire"
   ]
  },
  {
   "cell_type": "code",
   "execution_count": 2,
   "metadata": {},
   "outputs": [],
   "source": [
    "df = pd.read_csv('fitbit_all_activity.csv')"
   ]
  },
  {
   "cell_type": "code",
   "execution_count": 3,
   "metadata": {},
   "outputs": [
    {
     "data": {
      "text/html": [
       "<div>\n",
       "<style scoped>\n",
       "    .dataframe tbody tr th:only-of-type {\n",
       "        vertical-align: middle;\n",
       "    }\n",
       "\n",
       "    .dataframe tbody tr th {\n",
       "        vertical-align: top;\n",
       "    }\n",
       "\n",
       "    .dataframe thead th {\n",
       "        text-align: right;\n",
       "    }\n",
       "</style>\n",
       "<table border=\"1\" class=\"dataframe\">\n",
       "  <thead>\n",
       "    <tr style=\"text-align: right;\">\n",
       "      <th></th>\n",
       "      <th>date</th>\n",
       "      <th>cal_burned</th>\n",
       "      <th>steps</th>\n",
       "      <th>distance</th>\n",
       "      <th>floors</th>\n",
       "      <th>min_sed</th>\n",
       "      <th>min_light</th>\n",
       "      <th>min_fair</th>\n",
       "      <th>min_very</th>\n",
       "      <th>activity_cal</th>\n",
       "    </tr>\n",
       "  </thead>\n",
       "  <tbody>\n",
       "    <tr>\n",
       "      <th>0</th>\n",
       "      <td>2018-04-26</td>\n",
       "      <td>2635</td>\n",
       "      <td>2931</td>\n",
       "      <td>1</td>\n",
       "      <td>2</td>\n",
       "      <td>1347</td>\n",
       "      <td>93</td>\n",
       "      <td>0</td>\n",
       "      <td>0</td>\n",
       "      <td>566</td>\n",
       "    </tr>\n",
       "    <tr>\n",
       "      <th>1</th>\n",
       "      <td>2018-04-27</td>\n",
       "      <td>3649</td>\n",
       "      <td>9971</td>\n",
       "      <td>5</td>\n",
       "      <td>19</td>\n",
       "      <td>1158</td>\n",
       "      <td>219</td>\n",
       "      <td>46</td>\n",
       "      <td>17</td>\n",
       "      <td>1752</td>\n",
       "    </tr>\n",
       "    <tr>\n",
       "      <th>2</th>\n",
       "      <td>2018-04-28</td>\n",
       "      <td>3379</td>\n",
       "      <td>3521</td>\n",
       "      <td>2</td>\n",
       "      <td>2</td>\n",
       "      <td>702</td>\n",
       "      <td>155</td>\n",
       "      <td>22</td>\n",
       "      <td>11</td>\n",
       "      <td>1124</td>\n",
       "    </tr>\n",
       "    <tr>\n",
       "      <th>3</th>\n",
       "      <td>2018-04-29</td>\n",
       "      <td>2851</td>\n",
       "      <td>1639</td>\n",
       "      <td>1</td>\n",
       "      <td>0</td>\n",
       "      <td>891</td>\n",
       "      <td>122</td>\n",
       "      <td>0</td>\n",
       "      <td>0</td>\n",
       "      <td>602</td>\n",
       "    </tr>\n",
       "    <tr>\n",
       "      <th>4</th>\n",
       "      <td>2018-04-30</td>\n",
       "      <td>2825</td>\n",
       "      <td>1323</td>\n",
       "      <td>1</td>\n",
       "      <td>0</td>\n",
       "      <td>880</td>\n",
       "      <td>104</td>\n",
       "      <td>0</td>\n",
       "      <td>0</td>\n",
       "      <td>540</td>\n",
       "    </tr>\n",
       "  </tbody>\n",
       "</table>\n",
       "</div>"
      ],
      "text/plain": [
       "         date  cal_burned  steps  distance  floors  min_sed  min_light  \\\n",
       "0  2018-04-26        2635   2931         1       2     1347         93   \n",
       "1  2018-04-27        3649   9971         5      19     1158        219   \n",
       "2  2018-04-28        3379   3521         2       2      702        155   \n",
       "3  2018-04-29        2851   1639         1       0      891        122   \n",
       "4  2018-04-30        2825   1323         1       0      880        104   \n",
       "\n",
       "   min_fair  min_very  activity_cal  \n",
       "0         0         0           566  \n",
       "1        46        17          1752  \n",
       "2        22        11          1124  \n",
       "3         0         0           602  \n",
       "4         0         0           540  "
      ]
     },
     "execution_count": 3,
     "metadata": {},
     "output_type": "execute_result"
    }
   ],
   "source": [
    "df.head()"
   ]
  },
  {
   "cell_type": "markdown",
   "metadata": {},
   "source": [
    "# Prepare"
   ]
  },
  {
   "cell_type": "code",
   "execution_count": 4,
   "metadata": {},
   "outputs": [
    {
     "data": {
      "text/html": [
       "<div>\n",
       "<style scoped>\n",
       "    .dataframe tbody tr th:only-of-type {\n",
       "        vertical-align: middle;\n",
       "    }\n",
       "\n",
       "    .dataframe tbody tr th {\n",
       "        vertical-align: top;\n",
       "    }\n",
       "\n",
       "    .dataframe thead th {\n",
       "        text-align: right;\n",
       "    }\n",
       "</style>\n",
       "<table border=\"1\" class=\"dataframe\">\n",
       "  <thead>\n",
       "    <tr style=\"text-align: right;\">\n",
       "      <th></th>\n",
       "      <th>cal_burned</th>\n",
       "      <th>steps</th>\n",
       "      <th>distance</th>\n",
       "      <th>floors</th>\n",
       "      <th>min_sed</th>\n",
       "      <th>min_light</th>\n",
       "      <th>min_fair</th>\n",
       "      <th>min_very</th>\n",
       "      <th>activity_cal</th>\n",
       "    </tr>\n",
       "    <tr>\n",
       "      <th>date</th>\n",
       "      <th></th>\n",
       "      <th></th>\n",
       "      <th></th>\n",
       "      <th></th>\n",
       "      <th></th>\n",
       "      <th></th>\n",
       "      <th></th>\n",
       "      <th></th>\n",
       "      <th></th>\n",
       "    </tr>\n",
       "  </thead>\n",
       "  <tbody>\n",
       "    <tr>\n",
       "      <th>2018-04-26</th>\n",
       "      <td>2635</td>\n",
       "      <td>2931</td>\n",
       "      <td>1</td>\n",
       "      <td>2</td>\n",
       "      <td>1347</td>\n",
       "      <td>93</td>\n",
       "      <td>0</td>\n",
       "      <td>0</td>\n",
       "      <td>566</td>\n",
       "    </tr>\n",
       "    <tr>\n",
       "      <th>2018-04-27</th>\n",
       "      <td>3649</td>\n",
       "      <td>9971</td>\n",
       "      <td>5</td>\n",
       "      <td>19</td>\n",
       "      <td>1158</td>\n",
       "      <td>219</td>\n",
       "      <td>46</td>\n",
       "      <td>17</td>\n",
       "      <td>1752</td>\n",
       "    </tr>\n",
       "    <tr>\n",
       "      <th>2018-04-28</th>\n",
       "      <td>3379</td>\n",
       "      <td>3521</td>\n",
       "      <td>2</td>\n",
       "      <td>2</td>\n",
       "      <td>702</td>\n",
       "      <td>155</td>\n",
       "      <td>22</td>\n",
       "      <td>11</td>\n",
       "      <td>1124</td>\n",
       "    </tr>\n",
       "    <tr>\n",
       "      <th>2018-04-29</th>\n",
       "      <td>2851</td>\n",
       "      <td>1639</td>\n",
       "      <td>1</td>\n",
       "      <td>0</td>\n",
       "      <td>891</td>\n",
       "      <td>122</td>\n",
       "      <td>0</td>\n",
       "      <td>0</td>\n",
       "      <td>602</td>\n",
       "    </tr>\n",
       "    <tr>\n",
       "      <th>2018-04-30</th>\n",
       "      <td>2825</td>\n",
       "      <td>1323</td>\n",
       "      <td>1</td>\n",
       "      <td>0</td>\n",
       "      <td>880</td>\n",
       "      <td>104</td>\n",
       "      <td>0</td>\n",
       "      <td>0</td>\n",
       "      <td>540</td>\n",
       "    </tr>\n",
       "  </tbody>\n",
       "</table>\n",
       "</div>"
      ],
      "text/plain": [
       "            cal_burned  steps  distance  floors  min_sed  min_light  min_fair  \\\n",
       "date                                                                            \n",
       "2018-04-26        2635   2931         1       2     1347         93         0   \n",
       "2018-04-27        3649   9971         5      19     1158        219        46   \n",
       "2018-04-28        3379   3521         2       2      702        155        22   \n",
       "2018-04-29        2851   1639         1       0      891        122         0   \n",
       "2018-04-30        2825   1323         1       0      880        104         0   \n",
       "\n",
       "            min_very  activity_cal  \n",
       "date                                \n",
       "2018-04-26         0           566  \n",
       "2018-04-27        17          1752  \n",
       "2018-04-28        11          1124  \n",
       "2018-04-29         0           602  \n",
       "2018-04-30         0           540  "
      ]
     },
     "execution_count": 4,
     "metadata": {},
     "output_type": "execute_result"
    }
   ],
   "source": [
    "df1 = df.copy()\n",
    "df1.date = pd.to_datetime(df1.date)\n",
    "df1 = df1.set_index('date').sort_index()\n",
    "df1.head()"
   ]
  },
  {
   "cell_type": "code",
   "execution_count": 5,
   "metadata": {},
   "outputs": [
    {
     "data": {
      "text/plain": [
       "cal_burned      0\n",
       "steps           0\n",
       "distance        0\n",
       "floors          0\n",
       "min_sed         0\n",
       "min_light       0\n",
       "min_fair        0\n",
       "min_very        0\n",
       "activity_cal    0\n",
       "dtype: int64"
      ]
     },
     "execution_count": 5,
     "metadata": {},
     "output_type": "execute_result"
    }
   ],
   "source": [
    "df1.isna().sum()"
   ]
  },
  {
   "cell_type": "code",
   "execution_count": 6,
   "metadata": {},
   "outputs": [
    {
     "name": "stdout",
     "output_type": "stream",
     "text": [
      "<class 'pandas.core.frame.DataFrame'>\n",
      "DatetimeIndex: 225 entries, 2018-04-26 to 2018-12-06\n",
      "Data columns (total 9 columns):\n",
      " #   Column        Non-Null Count  Dtype\n",
      "---  ------        --------------  -----\n",
      " 0   cal_burned    225 non-null    int64\n",
      " 1   steps         225 non-null    int64\n",
      " 2   distance      225 non-null    int64\n",
      " 3   floors        225 non-null    int64\n",
      " 4   min_sed       225 non-null    int64\n",
      " 5   min_light     225 non-null    int64\n",
      " 6   min_fair      225 non-null    int64\n",
      " 7   min_very      225 non-null    int64\n",
      " 8   activity_cal  225 non-null    int64\n",
      "dtypes: int64(9)\n",
      "memory usage: 17.6 KB\n"
     ]
    }
   ],
   "source": [
    "df1.info()\n",
    "# need to convert all columns to numbers, fixed"
   ]
  },
  {
   "cell_type": "code",
   "execution_count": 8,
   "metadata": {},
   "outputs": [
    {
     "data": {
      "text/plain": [
       "array([[<AxesSubplot:title={'center':'cal_burned'}>,\n",
       "        <AxesSubplot:title={'center':'steps'}>,\n",
       "        <AxesSubplot:title={'center':'distance'}>],\n",
       "       [<AxesSubplot:title={'center':'floors'}>,\n",
       "        <AxesSubplot:title={'center':'min_sed'}>,\n",
       "        <AxesSubplot:title={'center':'min_light'}>],\n",
       "       [<AxesSubplot:title={'center':'min_fair'}>,\n",
       "        <AxesSubplot:title={'center':'min_very'}>,\n",
       "        <AxesSubplot:title={'center':'activity_cal'}>]], dtype=object)"
      ]
     },
     "execution_count": 8,
     "metadata": {},
     "output_type": "execute_result"
    },
    {
     "data": {
      "image/png": "[encoded data removed]",
      "text/plain": [
       "<Figure size 648x648 with 9 Axes>"
      ]
     },
     "metadata": {},
     "output_type": "display_data"
    }
   ],
   "source": [
    "# view histograms - ok before split b/c all independent\n",
    "df1.hist(figsize=(9, 9))"
   ]
  },
  {
   "cell_type": "markdown",
   "metadata": {},
   "source": [
    "## split and validate split"
   ]
  },
  {
   "cell_type": "code",
   "execution_count": 9,
   "metadata": {},
   "outputs": [],
   "source": [
    "# split data\n",
    "train_size = int(len(df1) * .5)\n",
    "validate_size = int(len(df1) * .3)\n",
    "test_size = int(len(df1) - train_size - validate_size)\n",
    "validate_end_index = train_size + validate_size\n",
    "\n",
    "# split into train, validation, test\n",
    "train = df1[: train_size]\n",
    "validate = df1[train_size : validate_end_index]\n",
    "test = df1[validate_end_index : ]"
   ]
  },
  {
   "cell_type": "code",
   "execution_count": 10,
   "metadata": {},
   "outputs": [
    {
     "name": "stdout",
     "output_type": "stream",
     "text": [
      "True\n"
     ]
    }
   ],
   "source": [
    "# Does the length of each df equate to the length of the original df?\n",
    "print(len(train) + len(validate) + len(test) == len(df))"
   ]
  },
  {
   "cell_type": "code",
   "execution_count": 13,
   "metadata": {},
   "outputs": [
    {
     "name": "stdout",
     "output_type": "stream",
     "text": [
      "            cal_burned  steps  distance  floors  min_sed  min_light  min_fair  \\\n",
      "date                                                                            \n",
      "2018-04-26        True   True      True    True     True       True      True   \n",
      "\n",
      "            min_very  activity_cal  \n",
      "date                                \n",
      "2018-04-26      True          True  \n"
     ]
    }
   ],
   "source": [
    "# Does the first row of original df equate to the first row of train?\n",
    "print(df1.head(1) == train.head(1))"
   ]
  },
  {
   "cell_type": "code",
   "execution_count": 14,
   "metadata": {},
   "outputs": [
    {
     "data": {
      "text/html": [
       "<div>\n",
       "<style scoped>\n",
       "    .dataframe tbody tr th:only-of-type {\n",
       "        vertical-align: middle;\n",
       "    }\n",
       "\n",
       "    .dataframe tbody tr th {\n",
       "        vertical-align: top;\n",
       "    }\n",
       "\n",
       "    .dataframe thead th {\n",
       "        text-align: right;\n",
       "    }\n",
       "</style>\n",
       "<table border=\"1\" class=\"dataframe\">\n",
       "  <thead>\n",
       "    <tr style=\"text-align: right;\">\n",
       "      <th></th>\n",
       "      <th>cal_burned</th>\n",
       "      <th>steps</th>\n",
       "      <th>distance</th>\n",
       "      <th>floors</th>\n",
       "      <th>min_sed</th>\n",
       "      <th>min_light</th>\n",
       "      <th>min_fair</th>\n",
       "      <th>min_very</th>\n",
       "      <th>activity_cal</th>\n",
       "    </tr>\n",
       "    <tr>\n",
       "      <th>date</th>\n",
       "      <th></th>\n",
       "      <th></th>\n",
       "      <th></th>\n",
       "      <th></th>\n",
       "      <th></th>\n",
       "      <th></th>\n",
       "      <th></th>\n",
       "      <th></th>\n",
       "      <th></th>\n",
       "    </tr>\n",
       "  </thead>\n",
       "  <tbody>\n",
       "    <tr>\n",
       "      <th>2018-10-21</th>\n",
       "      <td>3991</td>\n",
       "      <td>16642</td>\n",
       "      <td>8</td>\n",
       "      <td>15</td>\n",
       "      <td>437</td>\n",
       "      <td>349</td>\n",
       "      <td>33</td>\n",
       "      <td>58</td>\n",
       "      <td>2485</td>\n",
       "    </tr>\n",
       "    <tr>\n",
       "      <th>2018-10-22</th>\n",
       "      <td>3149</td>\n",
       "      <td>8328</td>\n",
       "      <td>4</td>\n",
       "      <td>7</td>\n",
       "      <td>747</td>\n",
       "      <td>172</td>\n",
       "      <td>4</td>\n",
       "      <td>28</td>\n",
       "      <td>1239</td>\n",
       "    </tr>\n",
       "  </tbody>\n",
       "</table>\n",
       "</div>"
      ],
      "text/plain": [
       "            cal_burned  steps  distance  floors  min_sed  min_light  min_fair  \\\n",
       "date                                                                            \n",
       "2018-10-21        3991  16642         8      15      437        349        33   \n",
       "2018-10-22        3149   8328         4       7      747        172         4   \n",
       "\n",
       "            min_very  activity_cal  \n",
       "date                                \n",
       "2018-10-21        58          2485  \n",
       "2018-10-22        28          1239  "
      ]
     },
     "execution_count": 14,
     "metadata": {},
     "output_type": "execute_result"
    }
   ],
   "source": [
    "# Is the last row of train the day before the first row of validate? And the same for validate to test?\n",
    "pd.concat([train.tail(1), validate.head(1)])\n",
    "pd.concat([validate.tail(1), test.head(1)])"
   ]
  },
  {
   "cell_type": "code",
   "execution_count": null,
   "metadata": {},
   "outputs": [],
   "source": []
  },
  {
   "cell_type": "code",
   "execution_count": null,
   "metadata": {},
   "outputs": [],
   "source": []
  },
  {
   "cell_type": "code",
   "execution_count": null,
   "metadata": {},
   "outputs": [],
   "source": []
  },
  {
   "cell_type": "code",
   "execution_count": 10,
   "metadata": {},
   "outputs": [
    {
     "data": {
      "text/plain": [
       "date\n",
       "2018-04-26    2635\n",
       "2018-04-27    3649\n",
       "2018-04-28    3379\n",
       "2018-04-29    2851\n",
       "2018-04-30    2825\n",
       "Name: cal_burned, dtype: int64"
      ]
     },
     "execution_count": 10,
     "metadata": {},
     "output_type": "execute_result"
    }
   ],
   "source": [
    "cb = train.cal_burned\n",
    "cb.head()"
   ]
  },
  {
   "cell_type": "code",
   "execution_count": 11,
   "metadata": {},
   "outputs": [
    {
     "data": {
      "text/plain": [
       "date\n",
       "2018-04-26    2931\n",
       "2018-04-27    9971\n",
       "2018-04-28    3521\n",
       "2018-04-29    1639\n",
       "2018-04-30    1323\n",
       "Name: steps, dtype: int64"
      ]
     },
     "execution_count": 11,
     "metadata": {},
     "output_type": "execute_result"
    }
   ],
   "source": [
    "steps = train.steps\n",
    "steps.head()"
   ]
  },
  {
   "cell_type": "code",
   "execution_count": 12,
   "metadata": {},
   "outputs": [
    {
     "data": {
      "text/plain": [
       "<AxesSubplot:ylabel='Frequency'>"
      ]
     },
     "execution_count": 12,
     "metadata": {},
     "output_type": "execute_result"
    },
    {
     "data": {
      "image/png": "[encoded data removed]",
      "text/plain": [
       "<Figure size 936x504 with 1 Axes>"
      ]
     },
     "metadata": {},
     "output_type": "display_data"
    }
   ],
   "source": [
    "cb.plot.hist()"
   ]
  },
  {
   "cell_type": "code",
   "execution_count": 13,
   "metadata": {},
   "outputs": [
    {
     "data": {
      "text/plain": [
       "<AxesSubplot:ylabel='Frequency'>"
      ]
     },
     "execution_count": 13,
     "metadata": {},
     "output_type": "execute_result"
    },
    {
     "data": {
      "image/png": "[encoded data removed]",
      "text/plain": [
       "<Figure size 936x504 with 1 Axes>"
      ]
     },
     "metadata": {},
     "output_type": "display_data"
    }
   ],
   "source": [
    "steps.plot.hist()"
   ]
  },
  {
   "cell_type": "code",
   "execution_count": 14,
   "metadata": {},
   "outputs": [
    {
     "data": {
      "text/plain": [
       "pandas.core.indexes.datetimes.DatetimeIndex"
      ]
     },
     "execution_count": 14,
     "metadata": {},
     "output_type": "execute_result"
    }
   ],
   "source": [
    "type(train.index)"
   ]
  },
  {
   "cell_type": "code",
   "execution_count": 15,
   "metadata": {},
   "outputs": [
    {
     "name": "stderr",
     "output_type": "stream",
     "text": [
      "/usr/local/anaconda3/lib/python3.7/site-packages/ipykernel_launcher.py:1: SettingWithCopyWarning: \n",
      "A value is trying to be set on a copy of a slice from a DataFrame.\n",
      "Try using .loc[row_indexer,col_indexer] = value instead\n",
      "\n",
      "See the caveats in the documentation: https://pandas.pydata.org/pandas-docs/stable/user_guide/indexing.html#returning-a-view-versus-a-copy\n",
      "  \"\"\"Entry point for launching an IPython kernel.\n"
     ]
    },
    {
     "data": {
      "text/plain": [
       "<AxesSubplot:xlabel='month'>"
      ]
     },
     "execution_count": 15,
     "metadata": {},
     "output_type": "execute_result"
    },
    {
     "data": {
      "image/png": "[encoded data removed]",
      "text/plain": [
       "<Figure size 936x504 with 1 Axes>"
      ]
     },
     "metadata": {},
     "output_type": "display_data"
    }
   ],
   "source": [
    "train['month'] = train.index.month\n",
    "train.groupby('month').cal_burned.mean().plot.bar()"
   ]
  },
  {
   "cell_type": "code",
   "execution_count": 16,
   "metadata": {},
   "outputs": [
    {
     "data": {
      "text/plain": [
       "<AxesSubplot:xlabel='month'>"
      ]
     },
     "execution_count": 16,
     "metadata": {},
     "output_type": "execute_result"
    },
    {
     "data": {
      "image/png": "[encoded data removed]",
      "text/plain": [
       "<Figure size 936x504 with 1 Axes>"
      ]
     },
     "metadata": {},
     "output_type": "display_data"
    }
   ],
   "source": [
    "train.groupby('month').steps.mean().plot.bar()"
   ]
  },
  {
   "cell_type": "code",
   "execution_count": 21,
   "metadata": {},
   "outputs": [
    {
     "data": {
      "text/plain": [
       "Text(0.5, 1.0, 'Lag plot with lag=1')"
      ]
     },
     "execution_count": 21,
     "metadata": {},
     "output_type": "execute_result"
    },
    {
     "data": {
      "image/png": "[encoded data removed]",
      "text/plain": [
       "<Figure size 936x504 with 1 Axes>"
      ]
     },
     "metadata": {},
     "output_type": "display_data"
    }
   ],
   "source": [
    "plt.scatter(cb, cb.shift(-1))\n",
    "plt.xlabel('$cb$')\n",
    "plt.ylabel('$cb_{t + 1}$')\n",
    "plt.title('Lag plot with lag=1')"
   ]
  },
  {
   "cell_type": "code",
   "execution_count": 23,
   "metadata": {},
   "outputs": [
    {
     "data": {
      "text/html": [
       "<div>\n",
       "<style scoped>\n",
       "    .dataframe tbody tr th:only-of-type {\n",
       "        vertical-align: middle;\n",
       "    }\n",
       "\n",
       "    .dataframe tbody tr th {\n",
       "        vertical-align: top;\n",
       "    }\n",
       "\n",
       "    .dataframe thead th {\n",
       "        text-align: right;\n",
       "    }\n",
       "</style>\n",
       "<table border=\"1\" class=\"dataframe\">\n",
       "  <thead>\n",
       "    <tr style=\"text-align: right;\">\n",
       "      <th></th>\n",
       "      <th>cal_burned</th>\n",
       "      <th>steps</th>\n",
       "      <th>distance</th>\n",
       "      <th>floors</th>\n",
       "      <th>min_sed</th>\n",
       "      <th>min_light</th>\n",
       "      <th>min_fair</th>\n",
       "      <th>min_very</th>\n",
       "      <th>activity_cal</th>\n",
       "      <th>month</th>\n",
       "    </tr>\n",
       "    <tr>\n",
       "      <th>date</th>\n",
       "      <th></th>\n",
       "      <th></th>\n",
       "      <th></th>\n",
       "      <th></th>\n",
       "      <th></th>\n",
       "      <th></th>\n",
       "      <th></th>\n",
       "      <th></th>\n",
       "      <th></th>\n",
       "      <th></th>\n",
       "    </tr>\n",
       "  </thead>\n",
       "  <tbody>\n",
       "    <tr>\n",
       "      <th>2018-04-26</th>\n",
       "      <td>2635</td>\n",
       "      <td>2931</td>\n",
       "      <td>1</td>\n",
       "      <td>2</td>\n",
       "      <td>1347</td>\n",
       "      <td>93</td>\n",
       "      <td>0</td>\n",
       "      <td>0</td>\n",
       "      <td>566</td>\n",
       "      <td>4</td>\n",
       "    </tr>\n",
       "    <tr>\n",
       "      <th>2018-04-27</th>\n",
       "      <td>3649</td>\n",
       "      <td>9971</td>\n",
       "      <td>5</td>\n",
       "      <td>19</td>\n",
       "      <td>1158</td>\n",
       "      <td>219</td>\n",
       "      <td>46</td>\n",
       "      <td>17</td>\n",
       "      <td>1752</td>\n",
       "      <td>4</td>\n",
       "    </tr>\n",
       "    <tr>\n",
       "      <th>2018-04-28</th>\n",
       "      <td>3379</td>\n",
       "      <td>3521</td>\n",
       "      <td>2</td>\n",
       "      <td>2</td>\n",
       "      <td>702</td>\n",
       "      <td>155</td>\n",
       "      <td>22</td>\n",
       "      <td>11</td>\n",
       "      <td>1124</td>\n",
       "      <td>4</td>\n",
       "    </tr>\n",
       "    <tr>\n",
       "      <th>2018-04-29</th>\n",
       "      <td>2851</td>\n",
       "      <td>1639</td>\n",
       "      <td>1</td>\n",
       "      <td>0</td>\n",
       "      <td>891</td>\n",
       "      <td>122</td>\n",
       "      <td>0</td>\n",
       "      <td>0</td>\n",
       "      <td>602</td>\n",
       "      <td>4</td>\n",
       "    </tr>\n",
       "    <tr>\n",
       "      <th>2018-04-30</th>\n",
       "      <td>2825</td>\n",
       "      <td>1323</td>\n",
       "      <td>1</td>\n",
       "      <td>0</td>\n",
       "      <td>880</td>\n",
       "      <td>104</td>\n",
       "      <td>0</td>\n",
       "      <td>0</td>\n",
       "      <td>540</td>\n",
       "      <td>4</td>\n",
       "    </tr>\n",
       "  </tbody>\n",
       "</table>\n",
       "</div>"
      ],
      "text/plain": [
       "            cal_burned  steps  distance  floors  min_sed  min_light  min_fair  \\\n",
       "date                                                                            \n",
       "2018-04-26        2635   2931         1       2     1347         93         0   \n",
       "2018-04-27        3649   9971         5      19     1158        219        46   \n",
       "2018-04-28        3379   3521         2       2      702        155        22   \n",
       "2018-04-29        2851   1639         1       0      891        122         0   \n",
       "2018-04-30        2825   1323         1       0      880        104         0   \n",
       "\n",
       "            min_very  activity_cal  month  \n",
       "date                                       \n",
       "2018-04-26         0           566      4  \n",
       "2018-04-27        17          1752      4  \n",
       "2018-04-28        11          1124      4  \n",
       "2018-04-29         0           602      4  \n",
       "2018-04-30         0           540      4  "
      ]
     },
     "execution_count": 23,
     "metadata": {},
     "output_type": "execute_result"
    }
   ],
   "source": [
    "# del train['cb(t + 1)']\n",
    "# del train['month']\n",
    "train.head()"
   ]
  },
  {
   "cell_type": "code",
   "execution_count": 27,
   "metadata": {},
   "outputs": [
    {
     "data": {
      "text/plain": [
       "<AxesSubplot:xlabel='date'>"
      ]
     },
     "execution_count": 27,
     "metadata": {},
     "output_type": "execute_result"
    },
    {
     "data": {
      "image/png": "[encoded data removed]",
      "text/plain": [
       "<Figure size 936x504 with 1 Axes>"
      ]
     },
     "metadata": {},
     "output_type": "display_data"
    }
   ],
   "source": [
    "train[['min_sed', 'min_light', 'min_fair', 'min_very']].resample('M').sum().plot.bar()"
   ]
  },
  {
   "cell_type": "code",
   "execution_count": 24,
   "metadata": {},
   "outputs": [
    {
     "data": {
      "text/html": [
       "<div>\n",
       "<style scoped>\n",
       "    .dataframe tbody tr th:only-of-type {\n",
       "        vertical-align: middle;\n",
       "    }\n",
       "\n",
       "    .dataframe tbody tr th {\n",
       "        vertical-align: top;\n",
       "    }\n",
       "\n",
       "    .dataframe thead th {\n",
       "        text-align: right;\n",
       "    }\n",
       "</style>\n",
       "<table border=\"1\" class=\"dataframe\">\n",
       "  <thead>\n",
       "    <tr style=\"text-align: right;\">\n",
       "      <th></th>\n",
       "      <th>this_week</th>\n",
       "      <th>steps</th>\n",
       "      <th>distance</th>\n",
       "      <th>floors</th>\n",
       "      <th>min_sed</th>\n",
       "      <th>min_light</th>\n",
       "      <th>min_fair</th>\n",
       "      <th>min_very</th>\n",
       "      <th>activity_cal</th>\n",
       "      <th>month</th>\n",
       "      <th>the_next_week</th>\n",
       "    </tr>\n",
       "    <tr>\n",
       "      <th>date</th>\n",
       "      <th></th>\n",
       "      <th></th>\n",
       "      <th></th>\n",
       "      <th></th>\n",
       "      <th></th>\n",
       "      <th></th>\n",
       "      <th></th>\n",
       "      <th></th>\n",
       "      <th></th>\n",
       "      <th></th>\n",
       "      <th></th>\n",
       "    </tr>\n",
       "  </thead>\n",
       "  <tbody>\n",
       "    <tr>\n",
       "      <th>2018-04-29</th>\n",
       "      <td>3128.500000</td>\n",
       "      <td>4515.500000</td>\n",
       "      <td>2.250000</td>\n",
       "      <td>5.750000</td>\n",
       "      <td>1024.500000</td>\n",
       "      <td>147.250000</td>\n",
       "      <td>17.000000</td>\n",
       "      <td>7.000000</td>\n",
       "      <td>1011.000000</td>\n",
       "      <td>4.000000</td>\n",
       "      <td>2820.285714</td>\n",
       "    </tr>\n",
       "    <tr>\n",
       "      <th>2018-05-06</th>\n",
       "      <td>2820.285714</td>\n",
       "      <td>1518.285714</td>\n",
       "      <td>0.714286</td>\n",
       "      <td>0.142857</td>\n",
       "      <td>937.000000</td>\n",
       "      <td>107.142857</td>\n",
       "      <td>4.142857</td>\n",
       "      <td>0.285714</td>\n",
       "      <td>590.571429</td>\n",
       "      <td>4.857143</td>\n",
       "      <td>2741.285714</td>\n",
       "    </tr>\n",
       "    <tr>\n",
       "      <th>2018-05-13</th>\n",
       "      <td>2741.285714</td>\n",
       "      <td>1729.857143</td>\n",
       "      <td>0.857143</td>\n",
       "      <td>0.714286</td>\n",
       "      <td>1065.571429</td>\n",
       "      <td>93.142857</td>\n",
       "      <td>3.714286</td>\n",
       "      <td>1.857143</td>\n",
       "      <td>551.285714</td>\n",
       "      <td>5.000000</td>\n",
       "      <td>3466.714286</td>\n",
       "    </tr>\n",
       "    <tr>\n",
       "      <th>2018-05-20</th>\n",
       "      <td>3466.714286</td>\n",
       "      <td>7406.571429</td>\n",
       "      <td>3.571429</td>\n",
       "      <td>3.142857</td>\n",
       "      <td>791.571429</td>\n",
       "      <td>177.000000</td>\n",
       "      <td>19.857143</td>\n",
       "      <td>27.571429</td>\n",
       "      <td>1407.571429</td>\n",
       "      <td>5.000000</td>\n",
       "      <td>3257.285714</td>\n",
       "    </tr>\n",
       "    <tr>\n",
       "      <th>2018-05-27</th>\n",
       "      <td>3257.285714</td>\n",
       "      <td>4836.571429</td>\n",
       "      <td>2.428571</td>\n",
       "      <td>1.285714</td>\n",
       "      <td>854.428571</td>\n",
       "      <td>185.857143</td>\n",
       "      <td>19.285714</td>\n",
       "      <td>5.428571</td>\n",
       "      <td>1180.857143</td>\n",
       "      <td>5.000000</td>\n",
       "      <td>3349.000000</td>\n",
       "    </tr>\n",
       "    <tr>\n",
       "      <th>2018-06-03</th>\n",
       "      <td>3349.000000</td>\n",
       "      <td>5485.428571</td>\n",
       "      <td>2.571429</td>\n",
       "      <td>1.571429</td>\n",
       "      <td>779.285714</td>\n",
       "      <td>216.571429</td>\n",
       "      <td>12.142857</td>\n",
       "      <td>5.714286</td>\n",
       "      <td>1296.428571</td>\n",
       "      <td>5.428571</td>\n",
       "      <td>2831.571429</td>\n",
       "    </tr>\n",
       "    <tr>\n",
       "      <th>2018-06-10</th>\n",
       "      <td>2831.571429</td>\n",
       "      <td>3248.000000</td>\n",
       "      <td>1.428571</td>\n",
       "      <td>3.571429</td>\n",
       "      <td>1114.000000</td>\n",
       "      <td>119.714286</td>\n",
       "      <td>15.000000</td>\n",
       "      <td>2.571429</td>\n",
       "      <td>752.857143</td>\n",
       "      <td>6.000000</td>\n",
       "      <td>3148.714286</td>\n",
       "    </tr>\n",
       "    <tr>\n",
       "      <th>2018-06-17</th>\n",
       "      <td>3148.714286</td>\n",
       "      <td>5399.142857</td>\n",
       "      <td>2.571429</td>\n",
       "      <td>7.142857</td>\n",
       "      <td>963.571429</td>\n",
       "      <td>194.000000</td>\n",
       "      <td>12.142857</td>\n",
       "      <td>5.000000</td>\n",
       "      <td>1151.000000</td>\n",
       "      <td>6.000000</td>\n",
       "      <td>3344.285714</td>\n",
       "    </tr>\n",
       "    <tr>\n",
       "      <th>2018-06-24</th>\n",
       "      <td>3344.285714</td>\n",
       "      <td>5485.571429</td>\n",
       "      <td>2.571429</td>\n",
       "      <td>2.285714</td>\n",
       "      <td>843.857143</td>\n",
       "      <td>218.857143</td>\n",
       "      <td>7.142857</td>\n",
       "      <td>7.142857</td>\n",
       "      <td>1314.857143</td>\n",
       "      <td>6.000000</td>\n",
       "      <td>2425.142857</td>\n",
       "    </tr>\n",
       "    <tr>\n",
       "      <th>2018-07-01</th>\n",
       "      <td>2425.142857</td>\n",
       "      <td>1217.714286</td>\n",
       "      <td>0.571429</td>\n",
       "      <td>0.714286</td>\n",
       "      <td>1281.428571</td>\n",
       "      <td>59.714286</td>\n",
       "      <td>1.142857</td>\n",
       "      <td>0.000000</td>\n",
       "      <td>313.714286</td>\n",
       "      <td>6.142857</td>\n",
       "      <td>2464.571429</td>\n",
       "    </tr>\n",
       "    <tr>\n",
       "      <th>2018-07-08</th>\n",
       "      <td>2464.571429</td>\n",
       "      <td>1738.285714</td>\n",
       "      <td>0.714286</td>\n",
       "      <td>1.285714</td>\n",
       "      <td>1236.000000</td>\n",
       "      <td>51.857143</td>\n",
       "      <td>9.000000</td>\n",
       "      <td>2.428571</td>\n",
       "      <td>372.000000</td>\n",
       "      <td>7.000000</td>\n",
       "      <td>3559.857143</td>\n",
       "    </tr>\n",
       "    <tr>\n",
       "      <th>2018-07-15</th>\n",
       "      <td>3559.857143</td>\n",
       "      <td>7601.714286</td>\n",
       "      <td>3.571429</td>\n",
       "      <td>5.714286</td>\n",
       "      <td>700.142857</td>\n",
       "      <td>222.000000</td>\n",
       "      <td>19.142857</td>\n",
       "      <td>18.285714</td>\n",
       "      <td>1574.285714</td>\n",
       "      <td>7.000000</td>\n",
       "      <td>3753.571429</td>\n",
       "    </tr>\n",
       "    <tr>\n",
       "      <th>2018-07-22</th>\n",
       "      <td>3753.571429</td>\n",
       "      <td>9756.142857</td>\n",
       "      <td>4.571429</td>\n",
       "      <td>8.000000</td>\n",
       "      <td>842.857143</td>\n",
       "      <td>208.142857</td>\n",
       "      <td>31.000000</td>\n",
       "      <td>37.857143</td>\n",
       "      <td>1833.000000</td>\n",
       "      <td>7.000000</td>\n",
       "      <td>3612.571429</td>\n",
       "    </tr>\n",
       "    <tr>\n",
       "      <th>2018-07-29</th>\n",
       "      <td>3612.571429</td>\n",
       "      <td>9625.714286</td>\n",
       "      <td>4.571429</td>\n",
       "      <td>10.000000</td>\n",
       "      <td>918.142857</td>\n",
       "      <td>208.428571</td>\n",
       "      <td>16.857143</td>\n",
       "      <td>37.857143</td>\n",
       "      <td>1695.285714</td>\n",
       "      <td>7.000000</td>\n",
       "      <td>3989.000000</td>\n",
       "    </tr>\n",
       "    <tr>\n",
       "      <th>2018-08-05</th>\n",
       "      <td>3989.000000</td>\n",
       "      <td>12049.142857</td>\n",
       "      <td>5.857143</td>\n",
       "      <td>19.285714</td>\n",
       "      <td>728.285714</td>\n",
       "      <td>199.000000</td>\n",
       "      <td>20.571429</td>\n",
       "      <td>67.000000</td>\n",
       "      <td>2082.428571</td>\n",
       "      <td>7.714286</td>\n",
       "      <td>3721.714286</td>\n",
       "    </tr>\n",
       "    <tr>\n",
       "      <th>2018-08-12</th>\n",
       "      <td>3721.714286</td>\n",
       "      <td>10333.142857</td>\n",
       "      <td>4.857143</td>\n",
       "      <td>9.571429</td>\n",
       "      <td>715.857143</td>\n",
       "      <td>249.714286</td>\n",
       "      <td>11.428571</td>\n",
       "      <td>35.857143</td>\n",
       "      <td>1831.000000</td>\n",
       "      <td>8.000000</td>\n",
       "      <td>3875.857143</td>\n",
       "    </tr>\n",
       "    <tr>\n",
       "      <th>2018-08-19</th>\n",
       "      <td>3875.857143</td>\n",
       "      <td>11480.000000</td>\n",
       "      <td>5.428571</td>\n",
       "      <td>12.714286</td>\n",
       "      <td>718.000000</td>\n",
       "      <td>235.571429</td>\n",
       "      <td>14.714286</td>\n",
       "      <td>54.285714</td>\n",
       "      <td>2015.857143</td>\n",
       "      <td>8.000000</td>\n",
       "      <td>3166.142857</td>\n",
       "    </tr>\n",
       "    <tr>\n",
       "      <th>2018-08-26</th>\n",
       "      <td>3166.142857</td>\n",
       "      <td>6534.285714</td>\n",
       "      <td>3.142857</td>\n",
       "      <td>4.428571</td>\n",
       "      <td>717.571429</td>\n",
       "      <td>155.000000</td>\n",
       "      <td>8.714286</td>\n",
       "      <td>31.714286</td>\n",
       "      <td>1348.000000</td>\n",
       "      <td>8.000000</td>\n",
       "      <td>3577.571429</td>\n",
       "    </tr>\n",
       "    <tr>\n",
       "      <th>2018-09-02</th>\n",
       "      <td>3577.571429</td>\n",
       "      <td>9438.857143</td>\n",
       "      <td>4.428571</td>\n",
       "      <td>11.714286</td>\n",
       "      <td>769.285714</td>\n",
       "      <td>197.714286</td>\n",
       "      <td>8.000000</td>\n",
       "      <td>43.857143</td>\n",
       "      <td>1646.285714</td>\n",
       "      <td>8.285714</td>\n",
       "      <td>3425.857143</td>\n",
       "    </tr>\n",
       "    <tr>\n",
       "      <th>2018-09-09</th>\n",
       "      <td>3425.857143</td>\n",
       "      <td>8345.571429</td>\n",
       "      <td>4.000000</td>\n",
       "      <td>9.428571</td>\n",
       "      <td>746.000000</td>\n",
       "      <td>216.571429</td>\n",
       "      <td>12.571429</td>\n",
       "      <td>30.857143</td>\n",
       "      <td>1544.285714</td>\n",
       "      <td>9.000000</td>\n",
       "      <td>3070.857143</td>\n",
       "    </tr>\n",
       "    <tr>\n",
       "      <th>2018-09-16</th>\n",
       "      <td>3070.857143</td>\n",
       "      <td>7124.285714</td>\n",
       "      <td>3.285714</td>\n",
       "      <td>31.000000</td>\n",
       "      <td>783.285714</td>\n",
       "      <td>168.285714</td>\n",
       "      <td>15.000000</td>\n",
       "      <td>18.571429</td>\n",
       "      <td>1147.142857</td>\n",
       "      <td>9.000000</td>\n",
       "      <td>3371.571429</td>\n",
       "    </tr>\n",
       "    <tr>\n",
       "      <th>2018-09-23</th>\n",
       "      <td>3371.571429</td>\n",
       "      <td>8434.285714</td>\n",
       "      <td>4.142857</td>\n",
       "      <td>9.428571</td>\n",
       "      <td>802.714286</td>\n",
       "      <td>176.000000</td>\n",
       "      <td>18.285714</td>\n",
       "      <td>36.857143</td>\n",
       "      <td>1476.000000</td>\n",
       "      <td>9.000000</td>\n",
       "      <td>3249.857143</td>\n",
       "    </tr>\n",
       "    <tr>\n",
       "      <th>2018-09-30</th>\n",
       "      <td>3249.857143</td>\n",
       "      <td>8214.428571</td>\n",
       "      <td>3.857143</td>\n",
       "      <td>6.714286</td>\n",
       "      <td>768.428571</td>\n",
       "      <td>192.285714</td>\n",
       "      <td>9.142857</td>\n",
       "      <td>27.571429</td>\n",
       "      <td>1367.285714</td>\n",
       "      <td>9.000000</td>\n",
       "      <td>NaN</td>\n",
       "    </tr>\n",
       "  </tbody>\n",
       "</table>\n",
       "</div>"
      ],
      "text/plain": [
       "              this_week         steps  distance     floors      min_sed  \\\n",
       "date                                                                      \n",
       "2018-04-29  3128.500000   4515.500000  2.250000   5.750000  1024.500000   \n",
       "2018-05-06  2820.285714   1518.285714  0.714286   0.142857   937.000000   \n",
       "2018-05-13  2741.285714   1729.857143  0.857143   0.714286  1065.571429   \n",
       "2018-05-20  3466.714286   7406.571429  3.571429   3.142857   791.571429   \n",
       "2018-05-27  3257.285714   4836.571429  2.428571   1.285714   854.428571   \n",
       "2018-06-03  3349.000000   5485.428571  2.571429   1.571429   779.285714   \n",
       "2018-06-10  2831.571429   3248.000000  1.428571   3.571429  1114.000000   \n",
       "2018-06-17  3148.714286   5399.142857  2.571429   7.142857   963.571429   \n",
       "2018-06-24  3344.285714   5485.571429  2.571429   2.285714   843.857143   \n",
       "2018-07-01  2425.142857   1217.714286  0.571429   0.714286  1281.428571   \n",
       "2018-07-08  2464.571429   1738.285714  0.714286   1.285714  1236.000000   \n",
       "2018-07-15  3559.857143   7601.714286  3.571429   5.714286   700.142857   \n",
       "2018-07-22  3753.571429   9756.142857  4.571429   8.000000   842.857143   \n",
       "2018-07-29  3612.571429   9625.714286  4.571429  10.000000   918.142857   \n",
       "2018-08-05  3989.000000  12049.142857  5.857143  19.285714   728.285714   \n",
       "2018-08-12  3721.714286  10333.142857  4.857143   9.571429   715.857143   \n",
       "2018-08-19  3875.857143  11480.000000  5.428571  12.714286   718.000000   \n",
       "2018-08-26  3166.142857   6534.285714  3.142857   4.428571   717.571429   \n",
       "2018-09-02  3577.571429   9438.857143  4.428571  11.714286   769.285714   \n",
       "2018-09-09  3425.857143   8345.571429  4.000000   9.428571   746.000000   \n",
       "2018-09-16  3070.857143   7124.285714  3.285714  31.000000   783.285714   \n",
       "2018-09-23  3371.571429   8434.285714  4.142857   9.428571   802.714286   \n",
       "2018-09-30  3249.857143   8214.428571  3.857143   6.714286   768.428571   \n",
       "\n",
       "             min_light   min_fair   min_very  activity_cal     month  \\\n",
       "date                                                                   \n",
       "2018-04-29  147.250000  17.000000   7.000000   1011.000000  4.000000   \n",
       "2018-05-06  107.142857   4.142857   0.285714    590.571429  4.857143   \n",
       "2018-05-13   93.142857   3.714286   1.857143    551.285714  5.000000   \n",
       "2018-05-20  177.000000  19.857143  27.571429   1407.571429  5.000000   \n",
       "2018-05-27  185.857143  19.285714   5.428571   1180.857143  5.000000   \n",
       "2018-06-03  216.571429  12.142857   5.714286   1296.428571  5.428571   \n",
       "2018-06-10  119.714286  15.000000   2.571429    752.857143  6.000000   \n",
       "2018-06-17  194.000000  12.142857   5.000000   1151.000000  6.000000   \n",
       "2018-06-24  218.857143   7.142857   7.142857   1314.857143  6.000000   \n",
       "2018-07-01   59.714286   1.142857   0.000000    313.714286  6.142857   \n",
       "2018-07-08   51.857143   9.000000   2.428571    372.000000  7.000000   \n",
       "2018-07-15  222.000000  19.142857  18.285714   1574.285714  7.000000   \n",
       "2018-07-22  208.142857  31.000000  37.857143   1833.000000  7.000000   \n",
       "2018-07-29  208.428571  16.857143  37.857143   1695.285714  7.000000   \n",
       "2018-08-05  199.000000  20.571429  67.000000   2082.428571  7.714286   \n",
       "2018-08-12  249.714286  11.428571  35.857143   1831.000000  8.000000   \n",
       "2018-08-19  235.571429  14.714286  54.285714   2015.857143  8.000000   \n",
       "2018-08-26  155.000000   8.714286  31.714286   1348.000000  8.000000   \n",
       "2018-09-02  197.714286   8.000000  43.857143   1646.285714  8.285714   \n",
       "2018-09-09  216.571429  12.571429  30.857143   1544.285714  9.000000   \n",
       "2018-09-16  168.285714  15.000000  18.571429   1147.142857  9.000000   \n",
       "2018-09-23  176.000000  18.285714  36.857143   1476.000000  9.000000   \n",
       "2018-09-30  192.285714   9.142857  27.571429   1367.285714  9.000000   \n",
       "\n",
       "            the_next_week  \n",
       "date                       \n",
       "2018-04-29    2820.285714  \n",
       "2018-05-06    2741.285714  \n",
       "2018-05-13    3466.714286  \n",
       "2018-05-20    3257.285714  \n",
       "2018-05-27    3349.000000  \n",
       "2018-06-03    2831.571429  \n",
       "2018-06-10    3148.714286  \n",
       "2018-06-17    3344.285714  \n",
       "2018-06-24    2425.142857  \n",
       "2018-07-01    2464.571429  \n",
       "2018-07-08    3559.857143  \n",
       "2018-07-15    3753.571429  \n",
       "2018-07-22    3612.571429  \n",
       "2018-07-29    3989.000000  \n",
       "2018-08-05    3721.714286  \n",
       "2018-08-12    3875.857143  \n",
       "2018-08-19    3166.142857  \n",
       "2018-08-26    3577.571429  \n",
       "2018-09-02    3425.857143  \n",
       "2018-09-09    3070.857143  \n",
       "2018-09-16    3371.571429  \n",
       "2018-09-23    3249.857143  \n",
       "2018-09-30            NaN  "
      ]
     },
     "execution_count": 24,
     "metadata": {},
     "output_type": "execute_result"
    },
    {
     "data": {
      "image/png": "[encoded data removed]",
      "text/plain": [
       "<Figure size 936x504 with 1 Axes>"
      ]
     },
     "metadata": {},
     "output_type": "display_data"
    }
   ],
   "source": [
    "weekly = train.resample('W').mean()\n",
    "weekly['the_next_week'] = weekly.cal_burned.shift(-1)\n",
    "weekly = weekly.rename(columns={'cal_burned': 'this_week'})\n",
    "weekly.plot.scatter(x='this_week', y='the_next_week')\n",
    "weekly"
   ]
  },
  {
   "cell_type": "code",
   "execution_count": null,
   "metadata": {},
   "outputs": [],
   "source": [
    "(train.groupby('temp_bin')\n",
    " .resample('M')\n",
    " .size()\n",
    " .unstack(0)\n",
    " .apply(lambda row: row / row.sum(), axis=1)\n",
    " .plot.area()\n",
    ")\n",
    "plt.ylabel('% of days in the month')"
   ]
  }
 ],
 "metadata": {
  "kernelspec": {
   "display_name": "Python 3",
   "language": "python",
   "name": "python3"
  },
  "language_info": {
   "codemirror_mode": {
    "name": "ipython",
    "version": 3
   },
   "file_extension": ".py",
   "mimetype": "text/x-python",
   "name": "python",
   "nbconvert_exporter": "python",
   "pygments_lexer": "ipython3",
   "version": "3.7.9"
  },
  "toc": {
   "base_numbering": 1,
   "nav_menu": {},
   "number_sections": true,
   "sideBar": true,
   "skip_h1_title": false,
   "title_cell": "Table of Contents",
   "title_sidebar": "Contents",
   "toc_cell": false,
   "toc_position": {},
   "toc_section_display": true,
   "toc_window_display": false
  }
 },
 "nbformat": 4,
 "nbformat_minor": 4
}
